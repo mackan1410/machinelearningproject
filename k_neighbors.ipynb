{
 "cells": [
  {
   "cell_type": "markdown",
   "metadata": {
    "collapsed": true,
    "pycharm": {
     "name": "#%% md\n"
    }
   },
   "source": [
    "# Imports"
   ]
  },
  {
   "cell_type": "code",
   "execution_count": 105,
   "outputs": [],
   "source": [
    "import matplotlib.pyplot as plt\n",
    "import numpy as np\n",
    "import pandas as pd\n",
    "import seaborn as sns\n",
    "from sklearn.model_selection import train_test_split\n",
    "from sklearn import metrics\n",
    "from sklearn.model_selection import cross_val_score\n",
    "from sklearn.metrics import plot_roc_curve\n",
    "from sklearn.neighbors import KNeighborsClassifier\n",
    "from sklearn.neural_network import MLPClassifier\n"
   ],
   "metadata": {
    "collapsed": false,
    "pycharm": {
     "name": "#%%\n"
    }
   }
  },
  {
   "cell_type": "markdown",
   "source": [
    "# Data"
   ],
   "metadata": {
    "collapsed": false,
    "pycharm": {
     "name": "#%% md\n"
    }
   }
  },
  {
   "cell_type": "code",
   "execution_count": 106,
   "outputs": [
    {
     "data": {
      "text/plain": "   F1   F2   F3  F4   F5  F6  F7   F8  F9  F10  ...  F157  F158  F159  F160  \\\n0  42  198  109  75  117  11  23   88  28   27  ...   238    74   129   120   \n1  42  191  142  65  117  55  49  170  45    5  ...   238   302    60   120   \n2  42  191  142  75  117  11  49  161  45   28  ...   238    73   127   120   \n3  42  198  110  65  117  55  23   95  28    5  ...   238   302    60   120   \n4  42  198  102  75  117  10  24   87  28   28  ...   238    73   127    51   \n5  42  191  142  65  117  55  49  170  45    6  ...   238   300    61    51   \n6  42  190  142  75  117  12  49  161  45   29  ...   238    72   125    51   \n7  42  199  102  65  117  55  23   94  29    6  ...   238   300    61    51   \n8  40  173  142  13  116   7  50  171  44  103  ...   236    53    20    38   \n9  44  159   63  74  117  17   5  114  31   33  ...   235    62   111    12   \n\n   F161  F162  F163  F164  F165  F166  \n0    38    30    48    37     6    30  \n1    39    31    48    37     5    30  \n2    38    30    48    37     5    31  \n3    39    30    48    37     6    30  \n4   128   144    43    30    14    26  \n5   127   143    42    31    14    26  \n6   124   143    44    30    14    29  \n7   127   144    42    30    14    25  \n8    88   133    66    28    13    58  \n9   153   134    45    37     9    25  \n\n[10 rows x 166 columns]",
      "text/html": "<div>\n<style scoped>\n    .dataframe tbody tr th:only-of-type {\n        vertical-align: middle;\n    }\n\n    .dataframe tbody tr th {\n        vertical-align: top;\n    }\n\n    .dataframe thead th {\n        text-align: right;\n    }\n</style>\n<table border=\"1\" class=\"dataframe\">\n  <thead>\n    <tr style=\"text-align: right;\">\n      <th></th>\n      <th>F1</th>\n      <th>F2</th>\n      <th>F3</th>\n      <th>F4</th>\n      <th>F5</th>\n      <th>F6</th>\n      <th>F7</th>\n      <th>F8</th>\n      <th>F9</th>\n      <th>F10</th>\n      <th>...</th>\n      <th>F157</th>\n      <th>F158</th>\n      <th>F159</th>\n      <th>F160</th>\n      <th>F161</th>\n      <th>F162</th>\n      <th>F163</th>\n      <th>F164</th>\n      <th>F165</th>\n      <th>F166</th>\n    </tr>\n  </thead>\n  <tbody>\n    <tr>\n      <th>0</th>\n      <td>42</td>\n      <td>198</td>\n      <td>109</td>\n      <td>75</td>\n      <td>117</td>\n      <td>11</td>\n      <td>23</td>\n      <td>88</td>\n      <td>28</td>\n      <td>27</td>\n      <td>...</td>\n      <td>238</td>\n      <td>74</td>\n      <td>129</td>\n      <td>120</td>\n      <td>38</td>\n      <td>30</td>\n      <td>48</td>\n      <td>37</td>\n      <td>6</td>\n      <td>30</td>\n    </tr>\n    <tr>\n      <th>1</th>\n      <td>42</td>\n      <td>191</td>\n      <td>142</td>\n      <td>65</td>\n      <td>117</td>\n      <td>55</td>\n      <td>49</td>\n      <td>170</td>\n      <td>45</td>\n      <td>5</td>\n      <td>...</td>\n      <td>238</td>\n      <td>302</td>\n      <td>60</td>\n      <td>120</td>\n      <td>39</td>\n      <td>31</td>\n      <td>48</td>\n      <td>37</td>\n      <td>5</td>\n      <td>30</td>\n    </tr>\n    <tr>\n      <th>2</th>\n      <td>42</td>\n      <td>191</td>\n      <td>142</td>\n      <td>75</td>\n      <td>117</td>\n      <td>11</td>\n      <td>49</td>\n      <td>161</td>\n      <td>45</td>\n      <td>28</td>\n      <td>...</td>\n      <td>238</td>\n      <td>73</td>\n      <td>127</td>\n      <td>120</td>\n      <td>38</td>\n      <td>30</td>\n      <td>48</td>\n      <td>37</td>\n      <td>5</td>\n      <td>31</td>\n    </tr>\n    <tr>\n      <th>3</th>\n      <td>42</td>\n      <td>198</td>\n      <td>110</td>\n      <td>65</td>\n      <td>117</td>\n      <td>55</td>\n      <td>23</td>\n      <td>95</td>\n      <td>28</td>\n      <td>5</td>\n      <td>...</td>\n      <td>238</td>\n      <td>302</td>\n      <td>60</td>\n      <td>120</td>\n      <td>39</td>\n      <td>30</td>\n      <td>48</td>\n      <td>37</td>\n      <td>6</td>\n      <td>30</td>\n    </tr>\n    <tr>\n      <th>4</th>\n      <td>42</td>\n      <td>198</td>\n      <td>102</td>\n      <td>75</td>\n      <td>117</td>\n      <td>10</td>\n      <td>24</td>\n      <td>87</td>\n      <td>28</td>\n      <td>28</td>\n      <td>...</td>\n      <td>238</td>\n      <td>73</td>\n      <td>127</td>\n      <td>51</td>\n      <td>128</td>\n      <td>144</td>\n      <td>43</td>\n      <td>30</td>\n      <td>14</td>\n      <td>26</td>\n    </tr>\n    <tr>\n      <th>5</th>\n      <td>42</td>\n      <td>191</td>\n      <td>142</td>\n      <td>65</td>\n      <td>117</td>\n      <td>55</td>\n      <td>49</td>\n      <td>170</td>\n      <td>45</td>\n      <td>6</td>\n      <td>...</td>\n      <td>238</td>\n      <td>300</td>\n      <td>61</td>\n      <td>51</td>\n      <td>127</td>\n      <td>143</td>\n      <td>42</td>\n      <td>31</td>\n      <td>14</td>\n      <td>26</td>\n    </tr>\n    <tr>\n      <th>6</th>\n      <td>42</td>\n      <td>190</td>\n      <td>142</td>\n      <td>75</td>\n      <td>117</td>\n      <td>12</td>\n      <td>49</td>\n      <td>161</td>\n      <td>45</td>\n      <td>29</td>\n      <td>...</td>\n      <td>238</td>\n      <td>72</td>\n      <td>125</td>\n      <td>51</td>\n      <td>124</td>\n      <td>143</td>\n      <td>44</td>\n      <td>30</td>\n      <td>14</td>\n      <td>29</td>\n    </tr>\n    <tr>\n      <th>7</th>\n      <td>42</td>\n      <td>199</td>\n      <td>102</td>\n      <td>65</td>\n      <td>117</td>\n      <td>55</td>\n      <td>23</td>\n      <td>94</td>\n      <td>29</td>\n      <td>6</td>\n      <td>...</td>\n      <td>238</td>\n      <td>300</td>\n      <td>61</td>\n      <td>51</td>\n      <td>127</td>\n      <td>144</td>\n      <td>42</td>\n      <td>30</td>\n      <td>14</td>\n      <td>25</td>\n    </tr>\n    <tr>\n      <th>8</th>\n      <td>40</td>\n      <td>173</td>\n      <td>142</td>\n      <td>13</td>\n      <td>116</td>\n      <td>7</td>\n      <td>50</td>\n      <td>171</td>\n      <td>44</td>\n      <td>103</td>\n      <td>...</td>\n      <td>236</td>\n      <td>53</td>\n      <td>20</td>\n      <td>38</td>\n      <td>88</td>\n      <td>133</td>\n      <td>66</td>\n      <td>28</td>\n      <td>13</td>\n      <td>58</td>\n    </tr>\n    <tr>\n      <th>9</th>\n      <td>44</td>\n      <td>159</td>\n      <td>63</td>\n      <td>74</td>\n      <td>117</td>\n      <td>17</td>\n      <td>5</td>\n      <td>114</td>\n      <td>31</td>\n      <td>33</td>\n      <td>...</td>\n      <td>235</td>\n      <td>62</td>\n      <td>111</td>\n      <td>12</td>\n      <td>153</td>\n      <td>134</td>\n      <td>45</td>\n      <td>37</td>\n      <td>9</td>\n      <td>25</td>\n    </tr>\n  </tbody>\n</table>\n<p>10 rows × 166 columns</p>\n</div>"
     },
     "execution_count": 106,
     "metadata": {},
     "output_type": "execute_result"
    }
   ],
   "source": [
    "df = pd.read_csv(\"./data/train.csv\")\n",
    "\n",
    "x = df.iloc[:,2:168]\n",
    "y = df.iloc[:, 168]\n",
    "# y =df[\"class\"]\n",
    "# x = df.drop([\"molecule\", \"conformation\", \"class\"], axis = 1)\n",
    "y = y.abs()\n",
    "x = x.abs()\n",
    "x.head(10)"
   ],
   "metadata": {
    "collapsed": false,
    "pycharm": {
     "name": "#%%\n"
    }
   }
  },
  {
   "cell_type": "code",
   "execution_count": 107,
   "outputs": [],
   "source": [
    "x_train, x_test, y_train, y_test = train_test_split(x, y, test_size= 0.7, random_state=42)"
   ],
   "metadata": {
    "collapsed": false,
    "pycharm": {
     "name": "#%%\n"
    }
   }
  },
  {
   "cell_type": "markdown",
   "source": [
    "# Model"
   ],
   "metadata": {
    "collapsed": false,
    "pycharm": {
     "name": "#%% md\n"
    }
   }
  },
  {
   "cell_type": "code",
   "execution_count": 108,
   "outputs": [],
   "source": [
    "knc = KNeighborsClassifier(leaf_size=1, p=2, n_neighbors=2)\n",
    "knc.fit(x_train,y_train)\n",
    "knc_predict = knc.predict(x_test)"
   ],
   "metadata": {
    "collapsed": false,
    "pycharm": {
     "name": "#%%\n"
    }
   }
  },
  {
   "cell_type": "code",
   "execution_count": 109,
   "outputs": [
    {
     "name": "stdout",
     "output_type": "stream",
     "text": [
      "K neighbors cross val:: 0.7894736842105263\n",
      "0.7894736842105263\n",
      "              precision    recall  f1-score   support\n",
      "\n",
      "         0.0       0.78      0.85      0.82       124\n",
      "         1.0       0.80      0.71      0.76       104\n",
      "\n",
      "    accuracy                           0.79       228\n",
      "   macro avg       0.79      0.78      0.79       228\n",
      "weighted avg       0.79      0.79      0.79       228\n",
      "\n"
     ]
    }
   ],
   "source": [
    "accuracy_rfc = metrics.accuracy_score(y_test, knc_predict)\n",
    "knc_cvs = cross_val_score(knc, x_train,y_train, cv=10 )\n",
    "print(\"K neighbors cross val::\", metrics.accuracy_score(y_test, knc_predict))\n",
    "print(accuracy_rfc)\n",
    "print(metrics.classification_report(y_test, knc_predict))"
   ],
   "metadata": {
    "collapsed": false,
    "pycharm": {
     "name": "#%%\n"
    }
   }
  },
  {
   "cell_type": "markdown",
   "source": [
    "# Plot"
   ],
   "metadata": {
    "collapsed": false,
    "pycharm": {
     "name": "#%% md\n"
    }
   }
  },
  {
   "cell_type": "code",
   "execution_count": 110,
   "outputs": [
    {
     "data": {
      "text/plain": "<Figure size 432x288 with 1 Axes>",
      "image/png": "[encoded data removed]"
     },
     "metadata": {
      "needs_background": "light"
     },
     "output_type": "display_data"
    }
   ],
   "source": [
    "knc_disp = plot_roc_curve(knc, x_test, y_test)\n",
    "plt.grid()\n",
    "plt.savefig(\"k_neighbors_roc.png\")"
   ],
   "metadata": {
    "collapsed": false,
    "pycharm": {
     "name": "#%%\n"
    }
   }
  },
  {
   "cell_type": "code",
   "execution_count": 111,
   "outputs": [],
   "source": [
    "leaf_size = list(range(1,50))\n",
    "n_neighbors = list(range(1,30))\n",
    "p=[1,2]\n",
    "#Convert to dictionary\n",
    "hyperparameters = dict(leaf_size=leaf_size, n_neighbors=n_neighbors, p=p)"
   ],
   "metadata": {
    "collapsed": false,
    "pycharm": {
     "name": "#%%\n"
    }
   }
  },
  {
   "cell_type": "code",
   "execution_count": 112,
   "outputs": [],
   "source": [
    "# Change run to tune hyperparameters\n",
    "run = False\n",
    "\n",
    "if run:\n",
    "    knn_2 = KNeighborsClassifier()\n",
    "    #Use GridSearch\n",
    "    clf = GridSearchCV(knn_2, hyperparameters, cv=10)\n",
    "    #Fit the model\n",
    "    best_model = clf.fit(x,y)\n",
    "    #Print The value of best Hyperparameters\n",
    "    print('Best leaf_size:', best_model.best_estimator_.get_params()['leaf_size'])\n",
    "    print('Best p:', best_model.best_estimator_.get_params()['p'])\n",
    "    print('Best n_neighbors:', best_model.best_estimator_.get_params()['n_neighbors'])"
   ],
   "metadata": {
    "collapsed": false,
    "pycharm": {
     "name": "#%%\n"
    }
   }
  },
  {
   "cell_type": "markdown",
   "source": [
    "# MPL"
   ],
   "metadata": {
    "collapsed": false,
    "pycharm": {
     "name": "#%% md\n"
    }
   }
  },
  {
   "cell_type": "code",
   "execution_count": 113,
   "outputs": [
    {
     "name": "stdout",
     "output_type": "stream",
     "text": [
      "Accuracy:  0.7280701754385965\n"
     ]
    }
   ],
   "source": [
    "mlp = MLPClassifier()\n",
    "mlp.fit(x_train,y_train)\n",
    "\n",
    "ypred = mlp.predict(x_test)\n",
    "print(\"Accuracy: \", metrics.accuracy_score(ypred, y_test))"
   ],
   "metadata": {
    "collapsed": false,
    "pycharm": {
     "name": "#%%\n"
    }
   }
  }
 ],
 "metadata": {
  "kernelspec": {
   "display_name": "Python 3",
   "language": "python",
   "name": "python3"
  },
  "language_info": {
   "codemirror_mode": {
    "name": "ipython",
    "version": 2
   },
   "file_extension": ".py",
   "mimetype": "text/x-python",
   "name": "python",
   "nbconvert_exporter": "python",
   "pygments_lexer": "ipython2",
   "version": "2.7.6"
  }
 },
 "nbformat": 4,
 "nbformat_minor": 0
}